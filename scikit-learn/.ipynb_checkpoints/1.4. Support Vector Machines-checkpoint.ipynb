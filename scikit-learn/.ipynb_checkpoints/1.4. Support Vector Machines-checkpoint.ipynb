{
 "cells": [
  {
   "cell_type": "markdown",
   "metadata": {},
   "source": [
    "# 1.4.1. Classification"
   ]
  },
  {
   "cell_type": "markdown",
   "metadata": {},
   "source": [
    "$\\color{blue}{\\rm{SVC}}$, $\\color{blue}{\\rm{NuSVC}}$ and $\\color{blue}{\\rm{LinearSVC}}$ are classes capable of performing multi-class classification on a dataset."
   ]
  },
  {
   "cell_type": "markdown",
   "metadata": {},
   "source": [
    "$\\color{blue}{\\rm{SVC}}$ and $\\color{blue}{\\rm{NuSVC}}$ are similar methods, but accept slightly different sets of parameters and have different mathematical formulations."
   ]
  },
  {
   "cell_type": "markdown",
   "metadata": {},
   "source": [
    "## 1.4.1.1 Mathematical formulation of SVC and NuSVC"
   ]
  },
  {
   "cell_type": "markdown",
   "metadata": {},
   "source": [
    "### SVC"
   ]
  },
  {
   "cell_type": "markdown",
   "metadata": {},
   "source": [
    "Our training data consists of $N$ samples $(x_1,y_1),(x_2,y_2),...,(x_N,y_N)$, with $x_i\\in\\mathbb{R}^p$ and $y_i\\in\\{-1,1\\}$. And we define $G(x)=-1, if \\ f(x)<0$; $G(x)=1, if \\ f(x)>0$. Then we can define a hyperplane by"
   ]
  },
  {
   "cell_type": "markdown",
   "metadata": {},
   "source": [
    "$$ \\{ x : f(x)=x^T\\beta + \\beta_0 = 0 \\}$$"
   ]
  },
  {
   "cell_type": "markdown",
   "metadata": {},
   "source": [
    "to separate the two class regions. Note that $\\beta$ is a unit vector : $\\left\\lVert \\beta \\right\\lVert=1$. Intuitively, we introduce a classification rule :"
   ]
  },
  {
   "cell_type": "markdown",
   "metadata": {},
   "source": [
    "$$ G(x)={\\rm{sign}}[x^T\\beta+\\beta_0]$$"
   ]
  },
  {
   "cell_type": "markdown",
   "metadata": {},
   "source": [
    "We know that $f(x)$ in the above formula gives the signed distance from a point $x$ to the hyperplane $f(x)=x^T\\beta + \\beta_0 = 0$. In the case that the classes are separable, we can find a function $f(x)=x^T\\beta + \\beta_0$ with $y_if(x_i)>0 \\ \\ \\forall i$. Hence we are able to find the hyperplane that create the biggest $margin$ between the training points for class $1$ and $-1$. We can solve the optimization problem"
   ]
  },
  {
   "cell_type": "markdown",
   "metadata": {},
   "source": [
    "$${\\max_{\\beta,\\beta_0,\\left\\lVert \\beta \\right\\lVert=1} M \\\\{\\rm subject\\ to}\\ y_i(x_i\\beta+\\beta_0)\\ge M, i=1,...,N,}$$"
   ]
  },
  {
   "cell_type": "markdown",
   "metadata": {},
   "source": [
    "to obtain the optimal hyperplane. The closest points is measured $M$ units away from the hyperplane on either side between points from two classes, and hence it forms a $2M$ units wide band, called the $margin$."
   ]
  },
  {
   "cell_type": "markdown",
   "metadata": {},
   "source": [
    "We showed that this problem can be more conveniently rephrased as "
   ]
  },
  {
   "cell_type": "markdown",
   "metadata": {},
   "source": [
    "$${\\min_{\\beta,\\beta_0} \\left\\lVert \\beta \\right\\lVert\\\\\n",
    "{\\rm{subject\\ to\\ }}y_i(x_i^T\\beta+\\beta_0)\\ge 1, i=1,...,N,}$$"
   ]
  },
  {
   "cell_type": "markdown",
   "metadata": {},
   "source": [
    "Note that $M=1/\\left\\lVert \\beta \\right\\lVert$. This is a convex optimization problem (quadratic criterion, linear inequality constraints)."
   ]
  },
  {
   "cell_type": "markdown",
   "metadata": {},
   "source": [
    "Suppose now that the class overlap in feature space. One way to deal with the overlap is to still maximize $M$, but allow for some points to be on the wrong side of the margin. Define the **slack variables** $\\zeta = (\\zeta_1,\\zeta_2,...,\\zeta_N)$."
   ]
  },
  {
   "cell_type": "markdown",
   "metadata": {},
   "source": [
    "There are two intuitive ideas to slack the constraint:"
   ]
  },
  {
   "cell_type": "markdown",
   "metadata": {},
   "source": [
    "$${\\begin{align}\n",
    "y_i(x_i^T\\beta+\\beta_0)\\quad &\\ge \\quad  M-\\zeta_i\\\\\n",
    "&or \\\\\n",
    "y_i(x_i\\beta+\\beta_0)\\quad &\\ge\\quad  M(1-\\zeta_i),\\\\\n",
    "\\forall i\\ \\zeta_i \\ge 0, \\sum_{i=1}^N\\zeta_i &\\le constant\n",
    "\\end{align}}$$"
   ]
  },
  {
   "cell_type": "markdown",
   "metadata": {},
   "source": [
    "The two choices lead to different solutions. And we focus on the second one that is convex to optimize. "
   ]
  },
  {
   "cell_type": "markdown",
   "metadata": {},
   "source": [
    "The value $\\zeta_i$ in the constraint $y_i(x_i^T\\beta + \\beta_0)\\ge M(1-\\zeta_i)$ is the proportional amount by which the prediction $f(x_i)=x_i^T\\beta+\\beta_0$ is on the wrong side of its margin. Misclassifications occurs when $\\zeta_i>1$, hence the term $\\sum\\zeta_i$ measures the total number of training misclassifications."
   ]
  },
  {
   "cell_type": "markdown",
   "metadata": {},
   "source": [
    "Define $M=1/\\left\\lVert \\beta \\right\\lVert$, and write the above optimization problem in the equivalent form"
   ]
  },
  {
   "cell_type": "markdown",
   "metadata": {},
   "source": [
    "$${\\min\\left\\lVert \\beta \\right\\lVert\\quad {\\rm{subject\\ to\\ }}\n",
    "\\begin{equation}\n",
    "\\left\\{\n",
    "\\begin{array}{c}\n",
    "&y_i(x_i^T\\beta+\\beta_0)\\ge 1-\\zeta_i\\ \\forall i,\\\\\n",
    "&\\zeta_i\\ge0,\\sum\\zeta_i\\le \\rm constant.\n",
    "\\end{array}\n",
    "\\right.\n",
    "\\end{equation}}$$"
   ]
  },
  {
   "cell_type": "markdown",
   "metadata": {},
   "source": [
    "This is the usual way the support vector classifier is defined for the non-separable case."
   ]
  },
  {
   "cell_type": "markdown",
   "metadata": {},
   "source": [
    "We can solve this problem using Largange multioliers. Computationally it is easy to re-express the above formula in the equilvalent form :"
   ]
  },
  {
   "cell_type": "markdown",
   "metadata": {},
   "source": [
    "$${\\min_{\\beta,\\beta_0}\\dfrac{1}{2}\\left\\lVert \\beta \\right\\lVert^2 + C\\sum_{i=1}^N\\zeta_i\\\\\n",
    "{\\rm{subject\\ to\\quad }}\\zeta_i>0, y_i(x_i^T\\beta+\\beta_0)\\ge 1-\\zeta_i\\ \\forall i}$$"
   ]
  },
  {
   "cell_type": "markdown",
   "metadata": {},
   "source": [
    "where the \"cost\" parameter replaces the constant."
   ]
  },
  {
   "cell_type": "markdown",
   "metadata": {
    "collapsed": true
   },
   "source": [
    "The Lagrange (primal) function is"
   ]
  },
  {
   "cell_type": "markdown",
   "metadata": {
    "collapsed": true
   },
   "source": [
    "$$L_p=\\dfrac{1}{2}\\left\\lVert \\beta \\right\\lVert^2 + C\\sum_{i=1}^N\\zeta_i-\\sum_{i=1}^N\\alpha_i[y_i(x_i^T\\beta+\\beta_0)-(1-\\zeta_i)] - \\sum_{i=1}^N\\mu_i\\zeta_i$$"
   ]
  },
  {
   "cell_type": "markdown",
   "metadata": {},
   "source": [
    "which we minimize w.r.t $\\beta,\\beta_0$ and $\\zeta_i$. Setting the respective derivatives to zero, we get"
   ]
  },
  {
   "cell_type": "markdown",
   "metadata": {},
   "source": [
    "$$\\begin{align}\n",
    "\\beta&=\\sum_{i=1}^N\\alpha_iy_ix_i,\\quad\\quad\\quad &(1)\\\\\n",
    "0&=\\sum_{i=1}^N\\alpha_iy_i \\quad\\quad\\quad &(2)\\\\\n",
    "a_i&=C-\\mu_i,\\ \\forall i \\quad\\quad\\quad &(3)\n",
    "\\end{align}$$"
   ]
  },
  {
   "cell_type": "markdown",
   "metadata": {},
   "source": [
    "We show the process of simplification of the function using the above equations"
   ]
  },
  {
   "cell_type": "markdown",
   "metadata": {},
   "source": [
    "$$\\begin{align}\n",
    "L_P&=\\dfrac{1}{2}\\left\\lVert \\beta \\right\\lVert^2+C\\sum_{i=1}^N - \\sum_{i=1}^N\\alpha_iy_ix_i^T\\beta+\\sum_{i=1}^N\\alpha_iy_i\\beta_0+\\sum_{i=1}^N\\alpha_i-\\sum_{i=1}^N\\alpha_i\\zeta_i\\\\\n",
    "&=\\dfrac{1}{2}\\left\\lVert \\beta \\right\\lVert^2-\\sum_{i=1}^N\\alpha_iy_ix_i^T\\beta+\\sum_{i=1}^N\\alpha_i\n",
    "\\end{align}$$"
   ]
  },
  {
   "cell_type": "markdown",
   "metadata": {},
   "source": [
    "Note that $\\alpha_i,\\mu_i,\\zeta_i\\ge 0\\ \\forall i$. We obtain the Lagrangian (Wolfe) dual obejctive function"
   ]
  },
  {
   "cell_type": "markdown",
   "metadata": {},
   "source": [
    "$$L_D=\\sum_{i=1}^N\\alpha_i-\\dfrac{1}{2}\\sum_{i=1}^N\\sum_{j=1}^N\\alpha_i\\alpha_jy_iy_jx_i^Tx_j,\\quad\\quad (4)$$"
   ]
  },
  {
   "cell_type": "markdown",
   "metadata": {
    "collapsed": true
   },
   "source": [
    "whcih gives a lower bound on the above minimization problem for any feasible point. In addition to (1)-(3), the Karush-Kuln-Tucker conditions include the constraints"
   ]
  },
  {
   "cell_type": "markdown",
   "metadata": {},
   "source": [
    "$$\\begin{align}\n",
    "\\alpha_i[y_i(x_i^T\\beta+\\beta_0)-(1-\\zeta_i)] &= 0, \\quad\\quad&(5)\\\\\n",
    "\\mu_i\\zeta_i&=0,\\quad\\quad&(6)\\\\\n",
    "y_i(x_i^T\\beta+\\beta)-(1-\\zeta_i)&\\ge 0 ,\\quad\\quad&(7)\n",
    "\\end{align}$$"
   ]
  },
  {
   "cell_type": "markdown",
   "metadata": {},
   "source": [
    "for $i=1,...N$. All these equation(1)-(7) gives the solution to the primal and dual problem. From (1) we see that the solution for $\\beta$ has the form"
   ]
  },
  {
   "cell_type": "markdown",
   "metadata": {},
   "source": [
    "$$\\hat\\beta=\\sum_{i=1}^N\\hat\\alpha y_ix_i,$$"
   ]
  },
  {
   "cell_type": "markdown",
   "metadata": {},
   "source": [
    "with nozero coefficients $\\hat\\alpha_i$ only for those observations $i$ for which the constraints in (7) are exactly met ( due to (5) ). These observations are called the *support vectors*, which are held by the $support_vectors_$ in scikit-learn library."
   ]
  },
  {
   "cell_type": "markdown",
   "metadata": {},
   "source": [
    "## 1.4.2 Support Vector Machines and  Kernels"
   ]
  },
  {
   "cell_type": "markdown",
   "metadata": {},
   "source": [
    "We can represent the optimization problem and its solution in a special way that only involves the input features via inner products. We do this directly for the tansformed feature vector $h(x_i)$."
   ]
  },
  {
   "cell_type": "markdown",
   "metadata": {},
   "source": [
    "The lagrange dual function has the form"
   ]
  },
  {
   "cell_type": "markdown",
   "metadata": {},
   "source": [
    "$$L_D=\\sum_{i=1}^N\\alpha_i-\\dfrac{1}{2}\\sum_{i=1}^N\\sum_{j=1}^N\\alpha_i\\alpha_jy_iy_j \\left<  h(x_i),h(x_j) \\right>$$"
   ]
  },
  {
   "cell_type": "markdown",
   "metadata": {},
   "source": [
    "The solution function $f(x)$ can be written"
   ]
  },
  {
   "cell_type": "markdown",
   "metadata": {},
   "source": [
    "$$\\begin{align}\n",
    "f(x)&=h(x)^T\\beta+\\beta_0\\\\\n",
    "&=\\sum_{i=1}^N\\alpha_iy_i\\left<h(x),h(x_i)\\right>+\\beta_0\n",
    "\\end{align}$$"
   ]
  },
  {
   "cell_type": "markdown",
   "metadata": {},
   "source": []
  },
  {
   "cell_type": "code",
   "execution_count": null,
   "metadata": {
    "collapsed": true
   },
   "outputs": [],
   "source": []
  },
  {
   "cell_type": "code",
   "execution_count": null,
   "metadata": {
    "collapsed": true
   },
   "outputs": [],
   "source": []
  },
  {
   "cell_type": "code",
   "execution_count": null,
   "metadata": {
    "collapsed": true
   },
   "outputs": [],
   "source": []
  },
  {
   "cell_type": "code",
   "execution_count": null,
   "metadata": {
    "collapsed": true
   },
   "outputs": [],
   "source": []
  },
  {
   "cell_type": "markdown",
   "metadata": {},
   "source": [
    "## Example"
   ]
  },
  {
   "cell_type": "markdown",
   "metadata": {},
   "source": [
    "### SVM : Maximum margin separating hyperplane"
   ]
  },
  {
   "cell_type": "markdown",
   "metadata": {},
   "source": [
    "#### Plot the maximum margin separating hyperplane within a two-class separating hyperplane within a two-class separable dataset using a Support Vector Machine"
   ]
  },
  {
   "cell_type": "code",
   "execution_count": 6,
   "metadata": {
    "collapsed": false
   },
   "outputs": [
    {
     "data": {
      "image/png": "[encoded data removed]",
      "text/plain": [
       "<matplotlib.figure.Figure at 0x10f509710>"
      ]
     },
     "metadata": {},
     "output_type": "display_data"
    }
   ],
   "source": [
    "%matplotlib inline\n",
    "import numpy as np\n",
    "import matplotlib.pyplot as plt\n",
    "from sklearn import svm\n",
    "\n",
    "# Create 40 separable points\n",
    "np.random.seed(0)\n",
    "X = np.r_[np.random.randn(20,2)-[2,2], np.random.randn(20, 2)+[2,2]]\n",
    "Y=[0] *20 + [1]*20\n",
    "\n",
    "# Fit the model\n",
    "clf = svm.SVC(kernel = 'linear')\n",
    "clf.fit(X, Y)\n",
    "\n",
    "# Get the separating hyperplane\n",
    "w = clf.coef_[0]\n",
    "a = -w[0]/w[1]\n",
    "xx = np.linspace(-5,5)\n",
    "yy = a * xx - (clf.intercept_[0]) / w[1]\n",
    "\n",
    "# Plot the parallels to the separating hyperplane that pass through the support vectors\n",
    "b = clf.support_vectors_[0]\n",
    "yy_down = a* xx +(b[1] - a*b[0])\n",
    "b = clf.support_vectors_[-1]\n",
    "yy_up = a* xx + (b[1] - a*b[0])\n",
    "\n",
    "# Plot the line, the points and the nearest vectors to the plane\n",
    "plt.figure(figsize=(10,7))\n",
    "plt.plot(xx, yy, 'k-')\n",
    "plt.plot(xx, yy_down, 'k--')\n",
    "plt.plot(xx, yy_up, 'k--')\n",
    "\n",
    "plt.scatter(clf.support_vectors_[:, 0], clf.support_vectors_[:,1],\n",
    "           s=80, facecolors='none')\n",
    "plt.scatter(X[:,0], X[:, 1], c=Y, cmap=plt.cm.Paired)\n",
    "\n",
    "plt.axis('tight')\n",
    "plt.show()"
   ]
  },
  {
   "cell_type": "code",
   "execution_count": null,
   "metadata": {
    "collapsed": false
   },
   "outputs": [],
   "source": []
  },
  {
   "cell_type": "code",
   "execution_count": null,
   "metadata": {
    "collapsed": true
   },
   "outputs": [],
   "source": []
  },
  {
   "cell_type": "code",
   "execution_count": null,
   "metadata": {
    "collapsed": true
   },
   "outputs": [],
   "source": []
  },
  {
   "cell_type": "code",
   "execution_count": null,
   "metadata": {
    "collapsed": true
   },
   "outputs": [],
   "source": []
  },
  {
   "cell_type": "code",
   "execution_count": null,
   "metadata": {
    "collapsed": true
   },
   "outputs": [],
   "source": []
  },
  {
   "cell_type": "code",
   "execution_count": null,
   "metadata": {
    "collapsed": true
   },
   "outputs": [],
   "source": []
  },
  {
   "cell_type": "code",
   "execution_count": null,
   "metadata": {
    "collapsed": true
   },
   "outputs": [],
   "source": []
  },
  {
   "cell_type": "code",
   "execution_count": null,
   "metadata": {
    "collapsed": true
   },
   "outputs": [],
   "source": []
  },
  {
   "cell_type": "code",
   "execution_count": null,
   "metadata": {
    "collapsed": true
   },
   "outputs": [],
   "source": []
  },
  {
   "cell_type": "code",
   "execution_count": null,
   "metadata": {
    "collapsed": true
   },
   "outputs": [],
   "source": []
  },
  {
   "cell_type": "code",
   "execution_count": null,
   "metadata": {
    "collapsed": true
   },
   "outputs": [],
   "source": []
  },
  {
   "cell_type": "code",
   "execution_count": null,
   "metadata": {
    "collapsed": true
   },
   "outputs": [],
   "source": []
  },
  {
   "cell_type": "code",
   "execution_count": null,
   "metadata": {
    "collapsed": true
   },
   "outputs": [],
   "source": []
  },
  {
   "cell_type": "code",
   "execution_count": null,
   "metadata": {
    "collapsed": true
   },
   "outputs": [],
   "source": []
  },
  {
   "cell_type": "code",
   "execution_count": null,
   "metadata": {
    "collapsed": true
   },
   "outputs": [],
   "source": []
  },
  {
   "cell_type": "code",
   "execution_count": null,
   "metadata": {
    "collapsed": true
   },
   "outputs": [],
   "source": []
  }
 ],
 "metadata": {
  "anaconda-cloud": {},
  "kernelspec": {
   "display_name": "Python [Root]",
   "language": "python",
   "name": "Python [Root]"
  },
  "language_info": {
   "codemirror_mode": {
    "name": "ipython",
    "version": 2
   },
   "file_extension": ".py",
   "mimetype": "text/x-python",
   "name": "python",
   "nbconvert_exporter": "python",
   "pygments_lexer": "ipython2",
   "version": "2.7.12"
  }
 },
 "nbformat": 4,
 "nbformat_minor": 0
}
